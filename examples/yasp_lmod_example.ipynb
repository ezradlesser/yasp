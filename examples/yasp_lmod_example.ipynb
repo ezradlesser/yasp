{
 "cells": [
  {
   "cell_type": "code",
   "execution_count": null,
   "id": "ef929e73-399e-4675-b57f-d7f176f8418c",
   "metadata": {},
   "outputs": [],
   "source": [
    "import yasp"
   ]
  },
  {
   "cell_type": "code",
   "execution_count": null,
   "id": "48b3b690-430a-473d-bc14-946ccb60f94b",
   "metadata": {},
   "outputs": [],
   "source": [
    "yasp.module_load('bundle/hepbase heppyy/current')"
   ]
  },
  {
   "cell_type": "code",
   "execution_count": null,
   "id": "fe4cac7e-3863-4330-ba0c-98f4b0508f2e",
   "metadata": {},
   "outputs": [],
   "source": [
    "import cppyy\n",
    "\n",
    "import heppyy.util.fastjet_cppyy\n",
    "import heppyy.util.pythia8_cppyy\n",
    "import heppyy.util.heppyy_cppyy\n",
    "\n",
    "from cppyy.gbl import fastjet as fj\n",
    "from cppyy.gbl import Pythia8\n",
    "from cppyy.gbl.std import vector\n",
    "\n",
    "from heppyy.pythia_util import configuration as pyconf\n",
    "\n",
    "import ROOT\n"
   ]
  },
  {
   "cell_type": "code",
   "execution_count": null,
   "id": "8d174c93-1582-4b46-ab4e-a7e057a9c175",
   "metadata": {},
   "outputs": [],
   "source": [
    "pythia = Pythia8.Pythia()"
   ]
  },
  {
   "cell_type": "code",
   "execution_count": null,
   "id": "33544cad-c353-44cd-a6eb-d2abe33aa66b",
   "metadata": {},
   "outputs": [],
   "source": [
    "pfjv = vector[fj.PseudoJet]()"
   ]
  },
  {
   "cell_type": "code",
   "execution_count": null,
   "id": "3f172253-6865-43f9-b98c-02a21f8abd10",
   "metadata": {},
   "outputs": [],
   "source": [
    "fj.ClusterSequence().print_banner()"
   ]
  },
  {
   "cell_type": "code",
   "execution_count": null,
   "id": "ba324ab5-76ca-4cb8-be87-63e2481b0530",
   "metadata": {},
   "outputs": [],
   "source": []
  }
 ],
 "metadata": {
  "kernelspec": {
   "display_name": "Python 3 (ipykernel)",
   "language": "python",
   "name": "python3"
  },
  "language_info": {
   "codemirror_mode": {
    "name": "ipython",
    "version": 3
   },
   "file_extension": ".py",
   "mimetype": "text/x-python",
   "name": "python",
   "nbconvert_exporter": "python",
   "pygments_lexer": "ipython3",
   "version": "3.11.9"
  }
 },
 "nbformat": 4,
 "nbformat_minor": 5
}
